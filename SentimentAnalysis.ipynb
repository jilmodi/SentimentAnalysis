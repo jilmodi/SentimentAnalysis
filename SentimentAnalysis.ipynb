{
 "cells": [
  {
   "cell_type": "markdown",
   "id": "2946afc0",
   "metadata": {},
   "source": [
    "### Import required Libraries"
   ]
  },
  {
   "cell_type": "raw",
   "id": "86140a3c",
   "metadata": {},
   "source": [
    "Install bs4 By using Pip------------>\n",
    "\n",
    "!pip install bs4"
   ]
  },
  {
   "cell_type": "code",
   "execution_count": 39,
   "id": "eed4e35e",
   "metadata": {},
   "outputs": [
    {
     "name": "stdout",
     "output_type": "stream",
     "text": [
      "showing info https://raw.githubusercontent.com/nltk/nltk_data/gh-pages/index.xml\n"
     ]
    },
    {
     "data": {
      "text/plain": [
       "True"
      ]
     },
     "execution_count": 39,
     "metadata": {},
     "output_type": "execute_result"
    }
   ],
   "source": [
    "import nltk\n",
    "nltk.download()"
   ]
  },
  {
   "cell_type": "code",
   "execution_count": 168,
   "id": "961fb038",
   "metadata": {},
   "outputs": [],
   "source": [
    "import requests\n",
    "from bs4 import BeautifulSoup\n",
    "import pandas as pd\n",
    "import numpy as np\n",
    "from sklearn.feature_extraction.text import CountVectorizer\n",
    "from nltk.tokenize import RegexpTokenizer\n",
    "from nltk.stem import PorterStemmer\n",
    "from nltk.corpus import stopwords\n",
    "from sklearn.model_selection import train_test_split\n",
    "from sklearn.naive_bayes import BernoulliNB\n",
    "from sklearn import metrics"
   ]
  },
  {
   "cell_type": "markdown",
   "id": "a2ab1299",
   "metadata": {},
   "source": [
    "### Collect text from this goodreads.com website , so you have to need of Internet connection"
   ]
  },
  {
   "cell_type": "code",
   "execution_count": 169,
   "id": "990b697e",
   "metadata": {},
   "outputs": [],
   "source": [
    "url = 'http://www.goodreads.com/quotes/tag/{}?page={}'"
   ]
  },
  {
   "cell_type": "markdown",
   "id": "d348f1c2",
   "metadata": {},
   "source": [
    "### In which Type of Quotes , So here 'Love' And 'Inspirations' Taken"
   ]
  },
  {
   "cell_type": "code",
   "execution_count": 180,
   "id": "47a5a0dc",
   "metadata": {},
   "outputs": [],
   "source": [
    "emotions = ['love','religion']"
   ]
  },
  {
   "cell_type": "markdown",
   "id": "5397b289",
   "metadata": {},
   "source": [
    "### Then formating the url Because whenever visit This website More than Pages and  Quotes are available so Here love quotes and page-3 is taken  From As Per this"
   ]
  },
  {
   "cell_type": "code",
   "execution_count": 181,
   "id": "72fc5d26",
   "metadata": {},
   "outputs": [],
   "source": [
    "complete = url.format(emotions[0],3)"
   ]
  },
  {
   "cell_type": "code",
   "execution_count": 182,
   "id": "a7425f10",
   "metadata": {},
   "outputs": [
    {
     "data": {
      "text/plain": [
       "'http://www.goodreads.com/quotes/tag/love?page=3'"
      ]
     },
     "execution_count": 182,
     "metadata": {},
     "output_type": "execute_result"
    }
   ],
   "source": [
    "complete"
   ]
  },
  {
   "cell_type": "markdown",
   "id": "742a9d4d",
   "metadata": {},
   "source": [
    "### Here, using Beautiful Then We have Question In Mind What is Beautiful And what is used for???\n",
    "\n",
    "### Beautiful Soup is a Python library for pulling data out of HTML and XML files.\n",
    "\n",
    "\n"
   ]
  },
  {
   "cell_type": "code",
   "execution_count": 183,
   "id": "e002c442",
   "metadata": {},
   "outputs": [],
   "source": [
    "def get_quotes(complete):\n",
    "    data = requests.get(complete)\n",
    "    soup = BeautifulSoup(data.text)\n",
    "    divs = soup.find_all('div',attrs={'class':'quoteText'})\n",
    "    quotes = [div.text.strip().split('\\n')[0][1:-1] for div in divs]\n",
    "    return quotes"
   ]
  },
  {
   "cell_type": "markdown",
   "id": "15b1c007",
   "metadata": {},
   "source": [
    "#### Here We only pull Data in Div tag And named on Class is quotetext. Because take only those data We need. \n",
    "\n",
    "#### Removed All Whitespaces and Unnecessary words  By using Strip() split in this Function."
   ]
  },
  {
   "cell_type": "code",
   "execution_count": 184,
   "id": "18d58ec2",
   "metadata": {},
   "outputs": [],
   "source": [
    "quotes  = get_quotes(complete)"
   ]
  },
  {
   "cell_type": "markdown",
   "id": "e26b5a79",
   "metadata": {},
   "source": [
    "### In which Checks How many Love And inspiration Quotes In page"
   ]
  },
  {
   "cell_type": "code",
   "execution_count": 207,
   "id": "c92ca72f",
   "metadata": {},
   "outputs": [
    {
     "name": "stdout",
     "output_type": "stream",
     "text": [
      "Processed Page 1 for love\n",
      "Processed Page 2 for love\n",
      "Processed Page 3 for love\n",
      "Processed Page 4 for love\n",
      "Processed Page 5 for love\n",
      "Processed Page 6 for love\n",
      "Processed Page 7 for love\n",
      "Processed Page 8 for love\n",
      "Processed Page 9 for love\n",
      "Processed Page 1 for religion\n",
      "Processed Page 2 for religion\n",
      "Processed Page 3 for religion\n",
      "Processed Page 4 for religion\n",
      "Processed Page 5 for religion\n",
      "Processed Page 6 for religion\n",
      "Processed Page 7 for religion\n",
      "Processed Page 8 for religion\n",
      "Processed Page 9 for religion\n"
     ]
    }
   ],
   "source": [
    "X,y  = [], []\n",
    "for emotion in emotions:\n",
    "    for i in range(1,10):\n",
    "        complete = url.format(emotion,i)\n",
    "        quotes = get_quotes(complete)\n",
    "        X.extend(quotes)\n",
    "        y.extend([emotion]*len(quotes))       #[love]*3 = [love,love,love]\n",
    "        print(f\"Processed Page {i} for {emotion}\")"
   ]
  },
  {
   "cell_type": "markdown",
   "id": "9ecf6f75",
   "metadata": {},
   "source": [
    "### Size Of Quotes"
   ]
  },
  {
   "cell_type": "code",
   "execution_count": 186,
   "id": "4d7b02b5",
   "metadata": {},
   "outputs": [
    {
     "data": {
      "text/plain": [
       "(420, 420)"
      ]
     },
     "execution_count": 186,
     "metadata": {},
     "output_type": "execute_result"
    }
   ],
   "source": [
    "len(X) , len(y)"
   ]
  },
  {
   "cell_type": "markdown",
   "id": "2fa8b89a",
   "metadata": {},
   "source": [
    "### Now, This Data Saved in csv File..."
   ]
  },
  {
   "cell_type": "code",
   "execution_count": 187,
   "id": "985f77d3",
   "metadata": {},
   "outputs": [],
   "source": [
    "df = pd.DataFrame(list(zip(y,X)),columns=['emotion','quotes'])"
   ]
  },
  {
   "cell_type": "code",
   "execution_count": 188,
   "id": "fac9b119",
   "metadata": {},
   "outputs": [],
   "source": [
    "df.to_csv('emotion.csv',index=False)"
   ]
  },
  {
   "cell_type": "code",
   "execution_count": 189,
   "id": "5dfd5a4a",
   "metadata": {},
   "outputs": [
    {
     "data": {
      "text/html": [
       "<div>\n",
       "<style scoped>\n",
       "    .dataframe tbody tr th:only-of-type {\n",
       "        vertical-align: middle;\n",
       "    }\n",
       "\n",
       "    .dataframe tbody tr th {\n",
       "        vertical-align: top;\n",
       "    }\n",
       "\n",
       "    .dataframe thead th {\n",
       "        text-align: right;\n",
       "    }\n",
       "</style>\n",
       "<table border=\"1\" class=\"dataframe\">\n",
       "  <thead>\n",
       "    <tr style=\"text-align: right;\">\n",
       "      <th></th>\n",
       "      <th>emotion</th>\n",
       "      <th>quotes</th>\n",
       "    </tr>\n",
       "  </thead>\n",
       "  <tbody>\n",
       "    <tr>\n",
       "      <th>0</th>\n",
       "      <td>love</td>\n",
       "      <td>I'm selfish, impatient and a little insecure. ...</td>\n",
       "    </tr>\n",
       "    <tr>\n",
       "      <th>1</th>\n",
       "      <td>love</td>\n",
       "      <td>You've gotta dance like there's nobody watchin...</td>\n",
       "    </tr>\n",
       "    <tr>\n",
       "      <th>2</th>\n",
       "      <td>love</td>\n",
       "      <td>You know you're in love when you can't fall as...</td>\n",
       "    </tr>\n",
       "    <tr>\n",
       "      <th>3</th>\n",
       "      <td>love</td>\n",
       "      <td>A friend is someone who knows all about you an...</td>\n",
       "    </tr>\n",
       "    <tr>\n",
       "      <th>4</th>\n",
       "      <td>love</td>\n",
       "      <td>Darkness cannot drive out darkness: only light...</td>\n",
       "    </tr>\n",
       "  </tbody>\n",
       "</table>\n",
       "</div>"
      ],
      "text/plain": [
       "  emotion                                             quotes\n",
       "0    love  I'm selfish, impatient and a little insecure. ...\n",
       "1    love  You've gotta dance like there's nobody watchin...\n",
       "2    love  You know you're in love when you can't fall as...\n",
       "3    love  A friend is someone who knows all about you an...\n",
       "4    love  Darkness cannot drive out darkness: only light..."
      ]
     },
     "execution_count": 189,
     "metadata": {},
     "output_type": "execute_result"
    }
   ],
   "source": [
    "df.head()"
   ]
  },
  {
   "cell_type": "markdown",
   "id": "0bcbf57e",
   "metadata": {},
   "source": [
    "### Buid CountVectorizer Model"
   ]
  },
  {
   "cell_type": "code",
   "execution_count": 190,
   "id": "6be64094",
   "metadata": {},
   "outputs": [],
   "source": [
    "vect = CountVectorizer(max_features=500)"
   ]
  },
  {
   "cell_type": "code",
   "execution_count": 191,
   "id": "e209b82d",
   "metadata": {},
   "outputs": [
    {
     "data": {
      "text/plain": [
       "CountVectorizer(max_features=500)"
      ]
     },
     "execution_count": 191,
     "metadata": {},
     "output_type": "execute_result"
    }
   ],
   "source": [
    "vect.fit(X)"
   ]
  },
  {
   "cell_type": "code",
   "execution_count": 192,
   "id": "9c604942",
   "metadata": {},
   "outputs": [
    {
     "data": {
      "text/plain": [
       "500"
      ]
     },
     "execution_count": 192,
     "metadata": {},
     "output_type": "execute_result"
    }
   ],
   "source": [
    "len(vect.vocabulary_)"
   ]
  },
  {
   "cell_type": "code",
   "execution_count": 193,
   "id": "fec574af",
   "metadata": {},
   "outputs": [],
   "source": [
    "X_mod = vect.transform(X).todense()"
   ]
  },
  {
   "cell_type": "code",
   "execution_count": 194,
   "id": "b647a886",
   "metadata": {},
   "outputs": [
    {
     "data": {
      "text/plain": [
       "420"
      ]
     },
     "execution_count": 194,
     "metadata": {},
     "output_type": "execute_result"
    }
   ],
   "source": [
    "len(X_mod)"
   ]
  },
  {
   "cell_type": "code",
   "execution_count": 195,
   "id": "0d70feb4",
   "metadata": {},
   "outputs": [],
   "source": [
    "tokenizer = RegexpTokenizer('\\w+')\n",
    "sw = set(stopwords.words('english'))\n",
    "ps = PorterStemmer()"
   ]
  },
  {
   "cell_type": "markdown",
   "id": "836f2437",
   "metadata": {},
   "source": [
    "### Apply tokenization And  Remove Stopwords"
   ]
  },
  {
   "cell_type": "code",
   "execution_count": 196,
   "id": "b085da6d",
   "metadata": {},
   "outputs": [],
   "source": [
    "def getStemmedQuote(quote):\n",
    "    quote = quote.lower()\n",
    "    \n",
    "    #tokenize\n",
    "    tokens = tokenizer.tokenize(quote)\n",
    "    \n",
    "    #remove stopwords\n",
    "    new_tokens = [token for token in tokens if token not in sw]\n",
    "    \n",
    "    stemmed_token = [ps.stem(token) for token in new_tokens]\n",
    "    \n",
    "    clean_quote = ' '.join(stemmed_token)\n",
    "    \n",
    "    return clean_quote\n",
    "\n",
    "def getStemmedQuotes(quotes):\n",
    "    d = []\n",
    "    for quote in quotes:\n",
    "        d.append(getStemmedQuote(quote))\n",
    "    return d    "
   ]
  },
  {
   "cell_type": "code",
   "execution_count": 197,
   "id": "44832f22",
   "metadata": {},
   "outputs": [
    {
     "data": {
      "text/plain": [
       "['selfish impati littl insecur make mistak control time hard handl handl worst sure hell deserv best',\n",
       " 'gotta danc like nobodi watch love like never hurt sing like nobodi listen live like heaven earth',\n",
       " 'know love fall asleep realiti final better dream',\n",
       " 'friend someon know still love',\n",
       " 'dark cannot drive dark light hate cannot drive hate love',\n",
       " 'accept love think deserv',\n",
       " 'better hate love',\n",
       " 'life truli believ find someon complet turn world around tell thing never share anoth soul absorb everyth say actual want hear share hope futur dream never come true goal never achiev mani disappoint life thrown someth wonder happen wait tell know share excit embarrass cri hurt laugh make fool never hurt feel make feel like good enough rather build show thing make special even beauti never pressur jealousi competit quiet calm around worri think love thing seem insignific peopl note song walk becom invalu treasur kept safe heart cherish forev memori childhood come back clear vivid like young colour seem brighter brilliant laughter seem part daili life infrequ exist phone call two day help get long day work alway bring smile face presenc need continu convers find quit content nearbi thing never interest becom fascin know import person special think person everi occas everyth simpl thing bring mind like pale blue sky gentl wind even storm cloud horizon open heart know chanc may broken one day open heart experi love joy never dream possibl find vulner way allow heart feel true pleasur real scare find strength know true friend possibl soul mate remain loyal end life seem complet differ excit worthwhil hope secur know part life',\n",
       " 'read fell love way fall asleep slowli',\n",
       " 'lack love lack friendship make unhappi marriag',\n",
       " 'opposit love hate indiffer opposit art ugli indiffer opposit faith heresi indiffer opposit life death indiffer',\n",
       " 'love without know love simpli without problem pride love way know way love intim hand upon chest hand intim fall asleep eye close',\n",
       " 'love trust wrong none',\n",
       " 'ever love horribl make vulner open chest open heart mean someon get insid mess',\n",
       " 'deepli love someon give strength love someon deepli give courag',\n",
       " 'life make matter go mess sometim univers truth good part get decid go mess girl friend act like anyway rememb come go one stay everyth true best friend let go also rememb sister make best friend world lover well come go babi hate say actual pretti much go break heart give give never find soulmat never find half make whole goe everyth fail mean gonna fail everyth keep tri hold alway alway alway believ sweeti keep head high keep chin importantli keep smile life beauti thing much smile',\n",
       " 'never time place true love happen accident heartbeat singl flash throb moment',\n",
       " 'love condit happi anoth person essenti',\n",
       " 'may first last love may love love els matter perfect either two may never perfect togeth make laugh caus think twice admit human make mistak hold onto give may think everi second day give part know break heart hurt chang analyz expect give smile make happi let know make mad miss',\n",
       " 'love real real tell real',\n",
       " 'love said quietli augustu said said stare could see corner eye crinkl love busi deni simpl pleasur say true thing love know love shout void oblivion inevit doom come day labor return dust know sun swallow earth ever love',\n",
       " 'noth special sure common man common thought led common life monument dedic name soon forgotten love anoth heart soul alway enough',\n",
       " 'love look eye mind therefor wing cupid paint blind',\n",
       " 'love like wind see feel',\n",
       " 'peopl think soul mate perfect fit everyon want true soul mate mirror person show everyth hold back person bring attent chang life true soul mate probabl import person ever meet tear wall smack awak live soul mate forev nah pain soul mate come life reveal anoth layer leav soul mate purpos shake tear apart ego littl bit show obstacl addict break heart open new light get make desper control transform life introduc spiritu master',\n",
       " 'love someon perfect love spite fact',\n",
       " 'noth would realli friend notion love peopl halv natur',\n",
       " 'make woman laugh make anyth',\n",
       " 'love never die natur death die know replenish sourc die blind error betray die ill wound die weari wither tarnish',\n",
       " 'littl weird life littl weird find someon whose weird compat join fall mutual satisfi weird call love true love',\n",
       " 'flower everi time thought could walk garden forev',\n",
       " 'real lover man thrill kiss forehead smile eye stare space',\n",
       " 'love vulner love anyth heart wrung possibl broken want make sure keep intact must give one even anim wrap care round hobbi littl luxuri avoid entangl lock safe casket coffin selfish casket safe dark motionless airless chang broken becom unbreak impenetr irredeem love vulner',\n",
       " 'dumbledor watch fli away silveri glow fade turn back snape eye full tear time alway said snape',\n",
       " 'someon love way talk differ feel safe comfort',\n",
       " 'make list thing teach school teach love somebodi teach famou teach rich poor teach walk away someon love longer teach know go someon els mind teach say someon die teach anyth worth know',\n",
       " 'die aw big adventur',\n",
       " 'ladi imagin rapid jump admir love love matrimoni moment',\n",
       " 'gonna easi go realli hard gonna work everyday want want want forev everyday everyday',\n",
       " 'think get wors think get better',\n",
       " 'ti better love lostthan never love',\n",
       " 'love certain dark thing love secret shadow soul',\n",
       " 'perfect either two never perfect make laugh least caus think twice admit human make mistak hold onto give go quot poetri think everi moment give part know could break hurt chang expect give analyz smile make happi yell make mad miss love hard love perfect guy exist alway one guy perfect',\n",
       " 'one love one love never ever person',\n",
       " 'love alway strive becom better strive becom better everyth around us becom better',\n",
       " 'longer believ idea soul mate love first sight begin believ time life lucki might meet someon exactli right perfect combin flaw arrang way allow two separ be hing togeth',\n",
       " 'one love one love reason need love',\n",
       " 'despair rememb histori way truth love alway tyrant murder time seem invinc end alway fall think alway',\n",
       " 'love need someon love put someon bad qualiti somehow complet',\n",
       " 'vain struggl feel repress must allow tell ardent admir love',\n",
       " 'love thing love',\n",
       " 'love patient love kind envi boast proud rude self seek easili anger keep record wrong love delight evil rejoic truth alway protect alway trust alway hope alway persever',\n",
       " 'perhap dragon live princess wait see us act beauti courag perhap everyth frighten us deepest essenc someth helpless want love',\n",
       " 'would die live',\n",
       " 'love entir univers conspir help find',\n",
       " 'never love anyon treat like ordinari',\n",
       " 'carri heart carri heart never without anywherei go go dear whatev done darl fear fate fate sweet want world beauti world true whatev moon alway meant whatev sun alway sing youher deepest secret nobodi know root root bud bud sky sky tree call life growshigh soul hope mind hide wonder keep star aparti carri heart carri heart',\n",
       " 'thing wors boy hate boy love',\n",
       " 'alway dream',\n",
       " 'best friend well lover know side enjoy treasur side treasur life togeth',\n",
       " 'look said ask still want could stop love would want give thing make stronger anyth els ever never dare give much anyon bit lightwood isabel alec took year clari sinc first time saw belong complet still want',\n",
       " 'would alway rather happi dignifi',\n",
       " 'promis yourselfto strong nothingcan disturb peac mind talk health happi prosperityto everi person meet make friend feelthat someth themto look sunni side everythingand make optim come true think best work best expect best enthusiast success othersa forget mistak pastand press greater achiev futur wear cheer counten timesand give everi live creatur meet smile give much time improv yourselfthat time critic other larg worri nobl anger strong fear happi permit presenc troubl think well proclaim fact world loud word great deed live faith whole world sideso long true best',\n",
       " 'whatev soul made mine',\n",
       " 'love life',\n",
       " 'think still love escap fact enough knew go happen blame fall love anoth woman angri either feel pain lot pain thought could imagin much would hurt wrong',\n",
       " 'lie man lie listen lie come point cannot distinguish truth within around lose respect other respect ceas love',\n",
       " 'women choos follow men women choos follow dream wonder way go rememb career never wake tell love anymor',\n",
       " 'nobodi ever measur even poet much heart hold',\n",
       " 'best love kind awaken soul make us reach plant fire heart bring peac mind given hope give forev',\n",
       " 'everi heart sing song incomplet anoth heart whisper back wish sing alway find song touch lover everyon becom poet',\n",
       " 'upon time boy love girl laughter question want spend whole life answer',\n",
       " 'doubt thou star fire doubt sun doth move doubt truth liar never doubt love',\n",
       " 'two basic motiv forc fear love afraid pull back life love open life offer passion excit accept need learn love first glori imperfect cannot love cannot fulli open abil love other potenti creat evolut hope better world rest fearless open heart vision peopl embrac life',\n",
       " 'fell love despit differ someth rare beauti creat love like happen everi minut spent togeth sear memori never forget singl moment',\n",
       " 'love love love',\n",
       " 'good sign broken heart mean tri someth',\n",
       " 'eleanor right never look nice look like art art suppos look nice suppos make feel someth',\n",
       " 'beyond idea wrongdo rightdo field meet soul lie grassth world full talk',\n",
       " 'lion fell love lamb murmur look away hide eye thrill word stupid lamb sigh sick masochist lion',\n",
       " 'heard said silli romant think want heaven shoot star want gemston gold thing alreadi want steadi hand kind soul want fall asleep wake know heart safe want love love',\n",
       " 'guy girl friend one point anoth fall mayb temporarili mayb wrong time mayb late mayb forev',\n",
       " 'know world convinc shall never see man realli love requir much',\n",
       " 'live breath word book made feel perhap complet alon could honest read word wrote lone sometim afraid alway brave way saw world color textur sound felt felt way thought hope felt dreamt felt dream think feel dream dream want want realiz truli want',\n",
       " 'decid stick love hate great burden bear',\n",
       " 'say person need three thing truli happi world someon love someth someth hope',\n",
       " 'meant alway find way',\n",
       " 'heart made broken',\n",
       " 'two peopl love alon isol world beauti',\n",
       " 'histori make decis quickli men alway fallen love fast without measur risk tendenc see best everyon assum everyon emot capabl reach highest potenti fallen love time care count highest potenti man rather man hung relationship long time sometim far long wait man ascend great mani time romanc victim optim',\n",
       " 'world inde full peril mani dark place still much fair though land love mingl grief grow perhap greater',\n",
       " 'thine self true must follow night day thou canst fals man',\n",
       " 'relationship perfect ever alway way bend compromis give someth order gain someth greater love bigger small differ key like big pie chart love relationship biggest piec love make lot',\n",
       " 'love alway patient kind never jealou love never boast conceit never rude selfish take offens resent love take pleasur peopl sin delight truth alway readi excus trust hope endur whatev come',\n",
       " 'two us home place person final home',\n",
       " 'ever love horribl make vulner open chest open heart mean someon get insid mess build defens build whole suit armor noth hurt one stupid person differ stupid person wander stupid life give piec ask someth dumb one day like kiss smile life anymor love take hostag get insid eat leav cri dark simpl phrase like mayb friend turn glass splinter work way heart hurt imagin mind soul hurt real get insid rip apart pain hate love',\n",
       " 'agre much fact agre anyth fought time challeng ever day despit differ one import thing common crazi',\n",
       " 'love short forget long',\n",
       " 'could anyth els world ask smile filthi cover blood dirt beauti thing ever seen want anyth els world',\n",
       " 'think learn anyth friendship hang stay connect fight let fight walk away distract busi tire take grant friend part glue hold life faith togeth power stuff',\n",
       " 'essenc romanc uncertainti',\n",
       " 'els perish remain still continu els remain annihil univers would turn mighti stranger',\n",
       " 'alway mad love also alway reason mad',\n",
       " 'rememb care everyon els forget',\n",
       " 'douchebag said gestur brad girl break heart bow head eye lost focu absolut fuck horror lose best friend stupid enough fall love',\n",
       " 'man may discov fire women discov play',\n",
       " 'want need need indispens somebodi need somebodi eat free time ego attent somebodi addict mutual addict',\n",
       " 'love sit like stone made like bread remad time made new',\n",
       " 'cannot fix hour spot look word laid foundat long ago middl knew begun',\n",
       " 'need dandelion spring bright yellow mean rebirth instead destruct promis life go matter bad loss good',\n",
       " 'reason someon smile reason someon feel love believ good peopl',\n",
       " 'daddi said first time fall love chang forev matter hard tri feel never goe away',\n",
       " 'hurt let go sometim seem harder tri hold someth someon want get away feel like kind crimin felt want want want confus think feel wrong make feel small hard keep insid let coma back left alon explain damn noth like nod head',\n",
       " 'love consist gaze look outward togeth direct',\n",
       " 'trust peopl love tell love african say care nake person offer shirt',\n",
       " 'endth love takei equal love make',\n",
       " 'call mind creat expect follow littl thing big thing awar realiz okay disappoint someon say go choos make simpl effort would put eas bring harmoni recur fight respect feel need busi anoth word asshol asshol anoth word guy date deserv fcking phone call',\n",
       " 'love first sight last sight ever ever sight',\n",
       " 'love somebodi let go return alway never',\n",
       " 'sure exactli heaven like know die come time god judg us ask mani good thing done life rather ask much love put',\n",
       " 'seek special person right us enough relationship begin suspect right person differ flavor wrong wrong way seek partner wrong complementari way take lot live grow fulli wrong final run deepest demon unsolv problem one make truli readi find lifelong mate final know look look wrong person wrong person got right wrong person someon lovingli gaze upon think problem want find special person wrong right way',\n",
       " 'three remain faith hope love greatest love',\n",
       " 'love fire whether go warm hearth burn hous never tell',\n",
       " 'dear find love let kill let drain let cling onto back weigh eventu nothing let kill let devour remain thing kill slowli fastli much better kill lover fals',\n",
       " 'answer everi prayer offer song dream whisper know could live without long',\n",
       " 'someth need tell say run finger along tendon hand look back might love smile littl wait sure tell though sensibl say smile find paper make list chart someth feel laughter side nose slide along jaw lip press ear mayb alreadi sure say want frighten laugh littl know better fine say love',\n",
       " 'smile less worri compass less judgment bless less stress love less hate',\n",
       " 'pain must come may come quickli life live need live best way possibl make choic may make either wait forget',\n",
       " 'feel peeta press forehead templ ask got go turn put somewher get hurt',\n",
       " 'let space togeth let wind heaven danc love one anoth make bond love let rather move sea shore soul fill cup drink one cup give one anoth bread eat loaf sing danc togeth joyou let one alon even string lute alon though quiver music give heart keep hand life contain heart stand togeth yet near togeth pillar templ stand apart oak tree cypress grow shadow',\n",
       " 'care love twist brain around leav think right wrong',\n",
       " 'good love mani thing therein lie true strength whosoev love much perform much accomplish much done love well done',\n",
       " 'love begin end way seem think love battl love war love grow',\n",
       " 'mani slam old screen door depend loud shut mani slice bread depend thin cut much good insid day depend good live em much love insid friend depend much give em',\n",
       " 'love mad love',\n",
       " 'think true mani mind head mani kind love heart',\n",
       " 'like make happi feel like know let go',\n",
       " 'well seem best relationship one last frequent one root friendship know one day look person see someth night like switch flick somewher person friend suddenli person ever imagin',\n",
       " 'declar love amus especi unrequit',\n",
       " 'true love rare thing give life real mean',\n",
       " 'pain thing lose process love someon much forget special',\n",
       " 'love star sky fish sea',\n",
       " 'woman heart hidden god man seek find',\n",
       " 'think pretti think beautifulbeauti beauti hurt sometim',\n",
       " 'demand look clari companion might know girl jace said recov composur sure seen girl alec sister isabel one',\n",
       " 'love rememb cannot take',\n",
       " 'love reason promis peac hope happi discourag could',\n",
       " 'smile yesterday smile today smile tomorrow simpli life short cri anyth',\n",
       " 'love irresist desir irresist desir',\n",
       " 'أجمل حب هو الذي نعثر عليه أثناء بحثنا عن شيء آخر',\n",
       " 'even cannot chang peopl around chang peopl choos around life short wast time peopl respect appreci valu spend life peopl make smile laugh feel love',\n",
       " 'stop one heart break shall live vain',\n",
       " 'curiou thought see peopl look ridicul realiz much love',\n",
       " 'form caution caution love perhap fatal true happi',\n",
       " 'fell love courag sincer flame self respect thing believ even whole world indulg wild suspicion love begin everyth',\n",
       " 'hell maintain suffer unabl love',\n",
       " 'power love overcom love power world know peac',\n",
       " 'ever want reach touch anoth human hand heart',\n",
       " 'find love let kill',\n",
       " 'hate sin love sinner',\n",
       " 'well nowif littl littl stop love mei shall stop love youlittl littleif suddenli forget medo look mefor shall alreadi forgotten youif think long mad wind banner pass lifeand decid leav shore heart rootsrememberthat day hour shall lift armsand root set seek anoth land',\n",
       " 'love met street poor young man love hat old coat worn water pass shoe star soul',\n",
       " 'allow love peopl realli love us peopl realli matter much time blind pursuit peopl love us peopl even matter time wast peopl love us stand sidewalk watch us beg street time put end time us let love',\n",
       " 'man knowledg must abl love enemi also hate friend',\n",
       " 'time wast rose make rose import',\n",
       " 'clatter basilisk fang cascad hermion arm run ron flung around neck kiss full mouth ron threw away fang broomstick hold respond enthusiasm lift hermion feet moment harri ask weakli noth happen except ron hermion grip still firmli sway spot rais voic oi war go ron hermion broke apart arm still around know mate said ron look though recent hit back head bludger never never mind horcrux harri shout think could hold got diadem yeah right sorri said ron hermion set gather fang pink face',\n",
       " 'one love one heart one destini',\n",
       " 'greater love greater tragedi',\n",
       " 'gave someon heart die take spend rest forev hole insid fill',\n",
       " 'amaz easi easi amaz worth wont give give worthi truth everybodi go hurt gotta find one worth suffer',\n",
       " 'never close lip alreadi open heart',\n",
       " 'possibl love part wish transmut love ignor muddl never pull know experi poet right love etern',\n",
       " 'thing lose way come back us end alway way expect',\n",
       " 'fool happi take man real heart make beauti stuff make us weep',\n",
       " 'face express voic say look bodi thing beauti',\n",
       " 'one cannot think well love well sleep well one dine well',\n",
       " 'enough courag trust love one time alway one time',\n",
       " 'top 15 thing money buytim happi inner peac integr love charact manner health respect moral trust patienc class common sens digniti',\n",
       " 'say miss someon probabl feel think possibl miss much miss right',\n",
       " 'love affection feel steadi wish love person ultim good far obtain',\n",
       " 'wantto spring cherri tree',\n",
       " 'wast time look perfect lover instead creat perfect love',\n",
       " 'gravit respons peopl fall love',\n",
       " 'would like air inhabit moment would like unnot necessari',\n",
       " 'know work love pretti amaz overr reason song',\n",
       " 'fire within moon live line skin',\n",
       " 'alon born alon die alon spite true romanc magazin shall someday look back live see spite compani alon whole way say lone least time essenti final alon make self respect import see respect must look heart mind other happi',\n",
       " 'fearless absens fear complet unafraid fearless fear fearless doubt lot fearless live spite thing scare death',\n",
       " 'someth boy everi time detriment step heart make cri',\n",
       " 'love like fat kid love cake',\n",
       " 'probabl chanc alon would hard man live unless terribl strong stronger one live neither smart stupid think run mill person busi without businesswoman love without woman made love two men love think rememb earth heaven men alway rememb woman caus concern uneasi done best regard peopl life without precept tast justic',\n",
       " 'lip met mine knew could live hundr visit everi countri world noth would ever compar singl moment first kiss girl dream knew love would last forev',\n",
       " 'tonight write saddest linesi love sometim love',\n",
       " 'welcom wonder world jealousi thought price admiss get split headach nearli irresist urg commit murder inferior complex yippe',\n",
       " 'someon love gave box full dark took year understand gift',\n",
       " 'look heart left',\n",
       " 'begin love let love perfectli resolut twist fit imag love love potenti like love love reflect find',\n",
       " 'love untam forc tri control destroy us tri imprison enslav us tri understand leav us feel lost confus',\n",
       " 'reliv life skip aw part without lose made worthwhil accept whole like world person love',\n",
       " 'crave mouth voic hair silent starv prowl street bread nourish dawn disrupt day hunt liquid measur step hunger sleek laugh hand color savag harvest hunger pale stone fingernail want eat skin like whole almond want eat sunbeam flare love bodi sovereign nose arrog face want eat fleet shade lash pace around hungri snif twilight hunt hot heart like puma barren quitratu',\n",
       " 'love temporari mad erupt like volcano subsid subsid make decis work whether root entwin togeth inconceiv ever part love love breathless excit promulg promis etern passion desir mate everi second minut day lie awak night imagin kiss everi cranni bodi blush tell truth love fool love left love burn away art fortun accid',\n",
       " 'life realiz much like song begin mysteri end confirm middl emot resid make whole thing worthwhil',\n",
       " 'spell love piglet spell feel pooh',\n",
       " 'happi real share',\n",
       " 'measur mutual affect two human be number word exchang',\n",
       " 'actual love felt sort tender curios',\n",
       " 'mayb fall love hell said love enough want ruin ye want ruin good said want',\n",
       " 'give smile seem genuin sweet right touch shyness unexpect warmth rush',\n",
       " 'bella life like moonless night dark star point light reason shot across sky like meteor suddenli everyth fire brillianc beauti gone meteor fallen horizon everyth went black noth chang eye blind light see star anymor reason anyth',\n",
       " 'let go mean care someon anymor realiz person realli control',\n",
       " 'anyon think sit church make christian must also think sit garag make car',\n",
       " 'believ christian believ sun risen see see everyth els',\n",
       " 'christian think god love us good god make us good love us',\n",
       " 'believ god big question answer us readili accept god formula big answer remain stone written adjust new condit discoveri pliabl love need command faith dictum god unlearn teach church state educ system drink beer kill war laugh odd live live well death trembl take us',\n",
       " 'life ruin famili kill farm destroy job knelt ground yell heaven god thunder voic god answer someth piss',\n",
       " 'mind place make heaven hell hell heaven',\n",
       " 'religion actual convinc peopl invis man live sky watch everyth everi minut everi day invis man special list ten thing want ten thing special place full fire smoke burn tortur anguish send live suffer burn choke scream cri forev ever til end time love love need money alway need money power perfect know wise somehow handl money',\n",
       " 'prayer ask long soul daili admiss one weak better prayer heart without word word without heart',\n",
       " 'god religion',\n",
       " 'heaven interest peopl miss',\n",
       " 'hate sin love sinner',\n",
       " 'man diminish god glori refus worship lunat put sun scribbl word dark wall cell',\n",
       " 'knock open doorvanish make shine like sunfal rais heavensbecom noth turn everyth',\n",
       " 'cannot believ god want prais time',\n",
       " 'scienc religion odd scienc simpli young understand',\n",
       " 'truth told bad intentbeat lie invent',\n",
       " 'enough see garden beauti without believ fairi bottom',\n",
       " 'atheism turn simpl whole univers mean never found mean',\n",
       " 'owner dog notic provid food water shelter affect think god wherea owner cat compel realiz provid food water shelter affect draw conclus god',\n",
       " 'forgiv lord littl joke theeand forgiv thi great big one',\n",
       " 'concern whether god side greatest concern god side god alway right',\n",
       " 'sometim bibl hand one man wors whiski bottl hand anoth kind men busi worri next world never learn live one look street see result',\n",
       " 'sight sad naughti child began especi naughti littl girl know wick go death go hell readi orthodox answer hell tell pit full fire like fall pit burn ever sir must avoid deliber moment answer come objection must keep good health die',\n",
       " 'seen teach trust creator seen',\n",
       " 'die men man man man made would done less',\n",
       " 'make believ absurd make commit atroc',\n",
       " 'heard melodi sweet unheard sweeter',\n",
       " 'believ god one thing old man sky believ peopl call god someth us believ jesu moham buddha rest said right translat gone wrong',\n",
       " 'good feel good bad feel bad religion',\n",
       " 'man mere mistak god god mere mistak man',\n",
       " 'religion simpl religion kind',\n",
       " 'easi confid know anoth man religion folli teach suspect also',\n",
       " 'religion like pair shoe find one fit make wear shoe',\n",
       " 'god save us peopl mean well',\n",
       " 'god will prevent evil abl omnipot abl will malevol abl will whenc cometh evil neither abl will call god',\n",
       " 'thou hast made us thyself lord heart restless find rest thee',\n",
       " 'woman want submiss man submiss god',\n",
       " 'religion friend simpli evolv fraud fear greed imagin poetri',\n",
       " 'god old testament arguabl unpleas charact fiction jealou proud petti unjust unforgiv control freak vindict bloodthirsti ethnic cleanser misogynist homophob racist infanticid genocid filicid pestilenti megalomaniac sadomasochist caprici malevol bulli',\n",
       " 'think piss god walk color purpl field somewher notic',\n",
       " 'god convinc woman could would ever fuck thing badli',\n",
       " 'peopl world hungri god cannot appear except form bread',\n",
       " 'god allow us experi low point life order teach us lesson could learn way',\n",
       " 'far better grasp univers realli persist delus howev satisfi reassur',\n",
       " 'babi god opinion world go',\n",
       " 'els guard heart affect everyth els',\n",
       " 'man suffer take serious god made fun',\n",
       " 'properli read bibl potent forc atheism ever conceiv',\n",
       " 'terrifi children imag hell consid women inferior creation good world',\n",
       " 'complet favor separ church state two institut screw us enough togeth certain death',\n",
       " 'religion excel stuff keep common peopl quiet religion keep poor murder rich',\n",
       " 'see might possibl man look upon earth atheist cannot conceiv man could look heaven say god',\n",
       " 'peopl thought want secur bear idea death big black noth bear thought love one exist even imagin exist final decid peopl believ afterlif bear',\n",
       " 'christian ideal tri found want found difficult left untri',\n",
       " 'legitim power govern extend act injuri other injuri neighbor say twenti god god neither pick pocket break leg',\n",
       " 'ye reason part organ religion ever sinc two nudist took dietari advic talk snake',\n",
       " 'children abound vital spirit fierc free therefor want thing repeat unchang alway say grown person nearli dead grown peopl strong enough exult monotoni perhap god strong enough exult monotoni possibl god say everi morn sun everi even moon may automat necess make daisi alik may god make everi daisi separ never got tire make may etern appetit infanc sin grown old father younger',\n",
       " 'look god suggest guru look god like man head fire look water',\n",
       " 'believ god atheist',\n",
       " 'complet utter chao lightn sort stand hilltop thunderstorm wear wet copper armour shout god bastard',\n",
       " 'never made one prayer god short one oh lord make enemi ridicul god grant letter étienn noël damilavil may 16 1767',\n",
       " 'go christian nation help poor either pretend jesu selfish got acknowledg command us love poor serv needi without condit admit want',\n",
       " 'believ good evil said jem believ soul etern believ fieri pit pitchfork endless torment believ threaten peopl good tessa look believ pulvi et umbra sumu said look spoke believ dust shadow els',\n",
       " 'lord god idea go see road ahead cannot know certain end realli know fact think follow mean actual believ desir pleas fact pleas hope desir hope never anyth apart desir know lead right road though may know noth therefor trust alway though may seem lost shadow death fear ever never leav face peril alon',\n",
       " 'wait last judgment come everi day',\n",
       " 'scienc often happen scientist say know realli good argument posit mistaken would actual chang mind never hear old view realli happen often scientist human chang sometim pain happen everi day cannot recal last time someth like happen polit religion',\n",
       " 'think perfectli possibl explain univers came without bring god know everyth may well god somewher hide away actual keep sight asham follow cruelti ignor respons promot name want noth',\n",
       " 'easi enough friendli one friend befriend one regard enemi quintess true religion mere busi',\n",
       " 'atheism knowledg god exist religion either mistak fraud atheism attitud frame mind look world object fearlessli alway tri understand thing part natur',\n",
       " 'idea await happen end moment know sick peopl need cure',\n",
       " 'truth one christian die cross',\n",
       " 'religion given peopl hope world torn apart religion',\n",
       " 'want god play bloodstream way sunlight amus water',\n",
       " 'come time life choos turn page write anoth book simpli close',\n",
       " 'scienc investig religion interpret scienc give man knowledg power religion give man wisdom control scienc deal mainli fact religion deal mainli valu two rival',\n",
       " 'simpl religion need templ need complic philosophi mind heart templ philosophi simpl kind',\n",
       " 'human decenc deriv religion preced',\n",
       " 'funni memori cherish breakup becom worst enemi afterward thought love think memori want hold light view everi angl suddenli seem lot safer lock box far light day throw away key act bitter act self preserv alway bad idea stay behind window look life instead',\n",
       " 'notic dirt god present us sign presenc',\n",
       " 'would call unless call said lion',\n",
       " 'belief death intellig',\n",
       " 'dog gentleman hope go heaven man',\n",
       " 'live much fun laughter life enjoy endur',\n",
       " 'الندم هو صوت الفطرة لحظة الخطأ',\n",
       " 'god think unlik would uneasi vaniti offend doubt exist',\n",
       " 'alcohol may man worst enemi bibl say love enemi',\n",
       " 'scienc compat spiritu profound sourc spiritu recogn place immens light year passag age grasp intricaci beauti subtleti life soar feel sens elat humil combin sure spiritu emot presenc great art music literatur act exemplari selfless courag mohanda gandhi martin luther king jr notion scienc spiritu somehow mutual exclus disservic',\n",
       " 'mani observ christ birthday precept',\n",
       " 'enough love good world permit give away imaginari be',\n",
       " 'whether believ god must believ speci abandon trust power greater us abandon sens account faith faith admonit someth cannot understand someth account faith account higher truth religion flaw man flaw church consist brotherhood imperfect simpl soul want voic compass world spin control',\n",
       " 'one person suffer delus call insan mani peopl suffer delus call religion',\n",
       " 'life tragic simpli earth turn sun inexor rise set one day us sun go last last time perhap whole root troubl human troubl sacrific beauti live imprison totem taboo cross blood sacrific steepl mosqu race armi flag nation order deni fact death fact seem one ought rejoic fact death ought decid inde earn one death confront passion conundrum life one respons life small beacon terrifi dark come shall return',\n",
       " 'man call friendless god companionship good book',\n",
       " 'deserv soul yet still one know hurt',\n",
       " 'atheist took long time say atheist year year somehow felt intellectu unrespect say one atheist assum knowledg one somehow better say one humanist agnost final decid creatur emot well reason emot atheist evid prove god exist strongli suspect want wast time',\n",
       " 'take three make love two spous god without god peopl succeed bring worst one anoth lover noth els love soon find noth els without central loyalti life unfinish',\n",
       " 'hope pray afterlif realiz contradict involv mere hope afterlif',\n",
       " 'one would go mad one took bibl serious take serious one must alreadi mad',\n",
       " 'god circl whose center everywher circumfer nowher',\n",
       " 'think possibl entir nation insan',\n",
       " 'come mind think god import thing us',\n",
       " 'wore black like still wear still mean someth still symbol rebellion stagnant statu quo hypocrit hous god peopl whose mind close other idea',\n",
       " 'challeng anyon understand islam spirit love beauti religion brotherhood devot',\n",
       " 'made confess fear tell also fear fear alon spurn anoth leav whatev leav afraid make mistak even great mistak lifelong mistak perhap long etern',\n",
       " 'law principl time temptat moment bodi soul rise mutini rigour conveni might break would worth',\n",
       " 'seem run great circl met start line',\n",
       " 'jesu came back saw done name never stop throw',\n",
       " 'without religion good peopl behav well bad peopl evil good peopl evil take religion',\n",
       " 'better sleep sober cannib drunk christian',\n",
       " 'save faith alon faith save never alon',\n",
       " 'calvin whole santa clau thing make sens secreci mysteri guy exist ever show prove exist mean hobb dunno religi holiday calvin yeah actual got question god',\n",
       " 'keep told religion whatev imperfect least instil moral everi side conclus evid contrari case faith caus peopl mean selfish perhap stupid',\n",
       " 'want believ want know',\n",
       " 'ye long war christian pray one day may live america christian worship freeli broad daylight openli wear symbol religion perhap around neck mayb dare dream mayb one day openli christian presid perhap 43 consecut',\n",
       " 'god prophet',\n",
       " 'imagin countriesit hard donoth kill die forand religion tooimagin peopleliv life peacey may say dreamerbut onei hope someday join usand world one',\n",
       " 'star appear one night thousand year would men believ ador preserv mani gener remembr citi god shown everi night come envoy beauti light univers admonish smile',\n",
       " 'man reason anim claim think open disput inde experi proven unreason anim truth man incur foolish simpl thing anim easili learn incap learn among experi hour taught cat dog friend put cage anoth hour taught friend rabbit cours two day abl add fox goos squirrel dove final monkey live togeth peac even affection next anoth cage confin irish cathol tipperari soon seem tame ad scotch presbyterian aberdeen next turk constantinopl greek christian crete armenian methodist wild arkansa buddhist china brahman benar final salvat armi colonel wap stay away two whole day came back note result cage higher anim right chao gori odd end turban fezz plaid bone flesh specimen left aliv reason anim disagre theolog detail carri matter higher court',\n",
       " 'know feel pretti sick church peopl know ought church tax holi peopl interest polit govern public polici let pay price admiss like everybodi els cathol church alon could wipe nation debt tax real estat',\n",
       " 'confus ever get tri convinc heart spirit someth mind know lie',\n",
       " 'religion could respond need modern scienc would buddhism',\n",
       " 'dislik stupid especi nastiest form racism superstit',\n",
       " 'hardest thing find black cat dark room especi cat',\n",
       " 'religi liberti might suppos mean everybodi free discuss religion practic mean hardli anybodi allow mention',\n",
       " 'ya rabb engkaulah alasan semua kehidupan ini engkaulah penjelasan ata semua kehidupan ini perasaan itu datang darimu semua perasaan itu juga akan kembali kepadamu kami hanya menerima titipan dan semua itu ada sungguh karenamu katakanlah wahai semua pencinta di dunia katakanlah ikrar cinta itu hanya karenanya katakanlah semua kehidupan itu hanya karena allah katakanlah semua getar rasa itu hanya karena allah dan semoga allah yang maha mencinta yang menciptakan dunia dengan kasih sayang mengajarkan kita tentang cinta sejati semoga allah memberikan kesempatan kepada kita untuk merasakan hakikatnya semoga allah sungguh memberikan kesempatan kepada kita untuk memandang wajahnya wajah yang akan membuat semua cinta dunia layu bagai kecambah yang tidak pernah tumbuh layu bagai api yang tak pernah pana membakar layu bagai sebongkah es yang tidak membeku',\n",
       " 'religion consist humbl admir illimit superior spirit reveal slight detail abl perceiv frail feebl mind',\n",
       " 'priest fool fearless never best term god',\n",
       " 'god concept measur pain',\n",
       " 'reject opportun select',\n",
       " 'hardli major religion look scienc conclud better thought univers much bigger prophet said grander subtl eleg instead say god littl god want stay way religion old new stress magnific univers reveal modern scienc might abl draw forth reserv rever awe hardli tap convent faith',\n",
       " 'alway believ whole larg man live properli accord priest said accord seem decent honest insid would end less turn right',\n",
       " 'presid unit state claim one occas dialogu god said talk god hairdryer would precipit nation emerg fail see addit hairdryer make claim ridicul offens',\n",
       " 'love bow mosqu kneel templ pray church son one religion spirit',\n",
       " 'religion definit metaphor god dream hope woman ironist father citi hous mani room watchmak left prize chronomet desert someon love even perhap evid celesti whose interest make sure footbal team armi busi marriag thrive prosper triumph opposit religion place stand look act vantag point view world none happen thing could occur never word liter true',\n",
       " 'child christian child muslim child child christian parent child muslim parent latter nomenclatur way would excel piec conscious rais children child told child muslim parent immedi realiz religion someth choos reject becom old enough',\n",
       " 'begin men use god justifi unjustifi',\n",
       " 'made god god understand life never make sens',\n",
       " 'cannot imagin god reward punish object creation whose purpos model god short reflect human frailti neither believ individu surviv death bodi although feebl soul harbor thought fear ridicul egot',\n",
       " 'well bathroom sat picnic tabl bumblefug kentucki notic someon carv god hate fag asid grammat nightmar absolut ridicul chang god hate baguett tough disagre everybodi hate baguett',\n",
       " 'beauti qualiti thing exist mere mind contempl mind perceiv differ beauti',\n",
       " 'beauti thing experi mysteri sourc true art scienc emot stranger longer paus wonder stand wrap awe good dead eye close insight mysteri life coupl though fear also given rise religion know impenetr us realli exist manifest highest wisdom radiant beauti dull faculti comprehend primit form knowledg feel center true religi',\n",
       " 'ordinari peopl never talk mere mortal nation cultur art civil mortal life life gnat immort joke work marri snub exploit immort horror everlast splendor mean perpetu solemn must play merriment must kind fact merriest kind exist peopl outset taken serious flippanc superior presumpt',\n",
       " 'twice everi month engag public debat whose press need woo win approv supernatur be often give view supernatur dimens certainli one especi avail faith natur world wonder enough even miracul enough insist attract piti look anxiou question case ask find mean purpos life mere gross materialist expect life come decid anyth worth care depend mood sometim alway refrain point breathtakingli insult patron question par equal subtl inquiri sinc believ god stop steal lie rape kill heart content answer latter question self respect desir respect other meantim precis think divin permiss truli capabl atroc answer first question fall two part life partak even littl friendship love ironi humor parenthood literatur music chanc take part battl liber other cannot call meaningless except person live also existentialist elect call could exist pointless joke fact possibl live one everyday life wherea one sought defin meaningless futil idea human life expend guilti fear self obsess propiti supernatur nonent enough',\n",
       " 'gradual disclos line separ good evil pass state class polit parti either right everi human heart human heart line shift insid us oscil year even within heart overwhelm evil one small bridgehead good retain even best heart remain unuproot small corner evil sinc come understand truth religion world struggl evil insid human insid everi human imposs expel evil world entireti possibl constrict within person',\n",
       " 'convention moral self righteous religion attack first assail last',\n",
       " 'sometim see thing happen right front eye still jump wrong conclus',\n",
       " 'accept teach devotari mean discard belief right wrong almighti determin right must someon unseen thing declar right right believ moral answer heart sure true moral right fear retribut',\n",
       " 'question difficult world question answer simpli ye atheist know defin pantheist problem involv vast limit mind may repli parabl human mind matter highli train cannot grasp univers posit littl child enter huge librari whose wall cover ceil book mani differ tongu child know someon must written book know understand languag written child note definit plan arrang book mysteri order comprehend dimli suspect seem attitud human mind even greatest cultur toward god see univers marvel arrang obey certain law understand law dimli limit mind cannot grasp mysteri forc sway constel fascin spinoza pantheism admir even contribut modern thought spinoza greatest modern philosoph first philosoph deal soul bodi one two separ thing',\n",
       " 'mani religion come us ingrati smirk outspread hand like unctuou merchant bazaar offer consol solidar uplift compet marketplac right rememb barbar behav strong make offer peopl could refus',\n",
       " 'doubt opposit faith element faith',\n",
       " 'truth liber effort free',\n",
       " 'think god god like worri',\n",
       " 'perhap one religion contain truth world perhap everi religion contain fragment truth respons identifi fragment piec togeth',\n",
       " 'learn univers less convinc sort benevol forc anyth',\n",
       " 'music higher power',\n",
       " 'night pour desert came suddenli purpl clear air star drill sky remind thought watcher desert high place religion gener men see noth bottomless infin head alway drive desper urg find someon put way',\n",
       " 'mind without fear head held high knowledg free world broken fragment narrow domest wall word come depth truth tireless strive stretch arm toward perfect clear stream reason lost way dreari desert sand dead habit mind led forward thee ever widen thought action heaven freedom father let countri awak',\n",
       " 'found lost god lost found god',\n",
       " 'marri first girl fell love tremend religi conflict time atheist agnost',\n",
       " 'real question life death whether exist even problem realli solv',\n",
       " 'photon mass even know cathol',\n",
       " 'god need punish us grant us long enough life punish',\n",
       " 'one nation sky passport valid',\n",
       " 'atheist thank god',\n",
       " 'legitim power govern reach action opinion contempl sovereign rever act whole american peopl declar legislatur make law respect establish religion prohibit free exercis thereof thu build wall separ church state adher express suprem nation behalf right conscienc shall see sincer satisfact progress sentiment tend restor man natur right convinc natur right opposit social duti',\n",
       " 'civil attain perfect last stone last church fall last priest',\n",
       " 'choic two option human be choic convers war convers violenc faith convers stopper',\n",
       " 'call religi understand suffer other',\n",
       " 'young man wish remain sound atheist cannot care read',\n",
       " 'god prefer simpl viciou game achiev transcend go straight oblivion key understand religion god idea amus snake ladder greas rung',\n",
       " 'consid extrem danger doctrin like assum solut come outsid less like solv problem',\n",
       " 'word god noth express product human weak bibl collect honor still primit legend nevertheless pretti childish interpret matter subtl chang',\n",
       " 'everi age tyrant oppressor exploit wrap cloak patriot religion deceiv overaw peopl',\n",
       " 'govern want effici technician human be human be becom danger govern organ religion well govern religi organ seek control educ',\n",
       " 'hindu capac love inde hairless christian muslim way see god everyth beard hindu christian devot god hat wear muslim',\n",
       " 'gener speak error religion danger philosophi ridicul',\n",
       " 'religion true none liter',\n",
       " 'religion art scienc branch tree aspir direct toward ennobl man life lift sphere mere physic exist lead individu toward freedom',\n",
       " 'aim heaven get earth thrown aim earth get neither',\n",
       " 'word express thought well everi thing immedi becom littl differ littl distort littl foolish yet also pleas seem right valu wisdom one man seem nonsens anoth',\n",
       " 'much author pope mani peopl believ',\n",
       " 'suppos one reason alway detest religion sli tendenc insinu idea univers design mind even wors divin plan one fit whether one know kind modesti arrog',\n",
       " 'much shall spend first three hour prayer',\n",
       " 'assess power much resist pain tortur endur know turn advantag',\n",
       " 'almost sect cult religion legisl creed law acquir polit power',\n",
       " 'would never want member group whose symbol man nail two piec wood',\n",
       " 'tradit mean give vote obscur class ancestor democraci dead tradit refus submit small arrog oligarchi mere happen walk',\n",
       " 'half peopl world think metaphor religi tradit exampl fact half contend fact result peopl consid believ accept metaphor fact other classifi atheist think religi metaphor lie',\n",
       " 'random moment toss salad come driveway hous iron seam flat quilt squar stand kitchen window look delphinium hear burst laughter one children room feel wavelik rush joy true religion arbitrari moment nearli pain happi life feel privileg lead',\n",
       " 'believ fundament truth great religion world',\n",
       " 'abandon despair easter peopl hallelujah song',\n",
       " 'convention moral self righteous religion attack first assail last pluck mask face pharise lift impiou hand crown thorn thing deed diametr oppos distinct vice virtu men often confound confound appear mistaken truth narrow human doctrin tend elat magnifi substitut world redeem creed christ repeat differ good bad action mark broadli clearli line separ',\n",
       " 'oh adam son cleverli defend might good',\n",
       " 'fair much bibl systemat evil plain weird would expect chaotic cobbl togeth antholog disjoint document compos revis translat distort improv hundr anonym author editor copyist unknown us mostli unknown span nine centuri',\n",
       " 'religion caus war excus',\n",
       " 'minut get religion stop think believ one thing much room new idea',\n",
       " 'live live though christ come afternoon',\n",
       " 'live grace mean acknowledg whole life stori light side dark admit shadow side learn god grace mean',\n",
       " 'found god insuffici',\n",
       " 'religion turn untest belief unshak truth power institut passag time',\n",
       " 'fact believ happier skeptic point fact drunken man happier sober one happi credul cheap danger qualiti happi mean necess life',\n",
       " 'blindli adopt religion polit system literari dogma becom automaton',\n",
       " 'came conclus long ago religion true also error hold religion hold religion dear hinduism pray hindu christian becom hindu innermost prayer hindu becom better hindu muslim better muslim christian better christian',\n",
       " 'think reason sometim fals sens god far away put kept distanc need call prayer wonder exactli left',\n",
       " 'religion still use among herd help orderli conduct noth els could crude human anim eradic superstiti everi biolog reason take away christian god saint worship someth els',\n",
       " 'savag interrupt natur feel god might well ask natur one trouser zipper said control sarcast remind anoth old fellow call bradley defin philosophi find bad reason one believ instinct one believ anyth instinct one believ thing one condit believ find bad reason one believ bad reason philosophi peopl believ god condit',\n",
       " 'big differ kneel bend',\n",
       " 'peopl ask god creat univers tell question make sens time exist big bang time god make univers like ask direct edg earth earth sphere edg look futil exercis free believ want view simplest explan god one creat univers one direct fate lead profound realiz probabl heaven afterlif either one life appreci grand design univers extrem grate',\n",
       " 'preoccup next world clearli show inabl cope credibl one',\n",
       " 'see feel one belov nake first time one life pure irreduc epiphani true religion univers must includ truth contact forev hollow make love one true person deserv love one absolut reward human balanc pain loss awkward loneli idioci compromis clumsi go human condit make love right person make lot mistak']"
      ]
     },
     "execution_count": 197,
     "metadata": {},
     "output_type": "execute_result"
    }
   ],
   "source": [
    "X = getStemmedQuotes(X)\n",
    "X"
   ]
  },
  {
   "cell_type": "code",
   "execution_count": 198,
   "id": "cc2f1b43",
   "metadata": {},
   "outputs": [],
   "source": [
    "X_mod = vect.transform(X).todense()"
   ]
  },
  {
   "cell_type": "code",
   "execution_count": 199,
   "id": "6bf37d96",
   "metadata": {},
   "outputs": [
    {
     "data": {
      "text/plain": [
       "(420, 500)"
      ]
     },
     "execution_count": 199,
     "metadata": {},
     "output_type": "execute_result"
    }
   ],
   "source": [
    "X_mod.shape"
   ]
  },
  {
   "cell_type": "markdown",
   "id": "aa63143c",
   "metadata": {},
   "source": [
    "### Splitting Data Into Trainset and Testset"
   ]
  },
  {
   "cell_type": "code",
   "execution_count": 200,
   "id": "20b9b077",
   "metadata": {},
   "outputs": [],
   "source": [
    "X_train,X_test,y_train,y_test = train_test_split(X_mod,y,test_size=0.33,random_state=200)"
   ]
  },
  {
   "cell_type": "code",
   "execution_count": 201,
   "id": "edbc2938",
   "metadata": {},
   "outputs": [
    {
     "data": {
      "text/plain": [
       "matrix([[0, 0, 0, ..., 0, 0, 0],\n",
       "        [0, 0, 0, ..., 0, 0, 0],\n",
       "        [0, 0, 0, ..., 0, 0, 0],\n",
       "        ...,\n",
       "        [0, 0, 0, ..., 0, 0, 0],\n",
       "        [0, 0, 0, ..., 0, 0, 0],\n",
       "        [0, 0, 0, ..., 0, 0, 0]], dtype=int64)"
      ]
     },
     "execution_count": 201,
     "metadata": {},
     "output_type": "execute_result"
    }
   ],
   "source": [
    "X_mod"
   ]
  },
  {
   "cell_type": "code",
   "execution_count": 202,
   "id": "5a3c6671",
   "metadata": {},
   "outputs": [],
   "source": [
    "model = BernoulliNB()"
   ]
  },
  {
   "cell_type": "code",
   "execution_count": 203,
   "id": "be0c70b3",
   "metadata": {},
   "outputs": [
    {
     "data": {
      "text/plain": [
       "BernoulliNB()"
      ]
     },
     "execution_count": 203,
     "metadata": {},
     "output_type": "execute_result"
    }
   ],
   "source": [
    "model.fit(X_train,y_train)"
   ]
  },
  {
   "cell_type": "code",
   "execution_count": 204,
   "id": "a87f1c1a",
   "metadata": {},
   "outputs": [],
   "source": [
    "y_pred = model.predict(X_test)"
   ]
  },
  {
   "cell_type": "code",
   "execution_count": 205,
   "id": "bad7338c",
   "metadata": {},
   "outputs": [],
   "source": [
    "y_test = np.array(y_test)"
   ]
  },
  {
   "cell_type": "markdown",
   "id": "32bccb7b",
   "metadata": {},
   "source": [
    "### model Accuracy how often is the classifier correct?"
   ]
  },
  {
   "cell_type": "code",
   "execution_count": 206,
   "id": "ee17e90a",
   "metadata": {},
   "outputs": [
    {
     "name": "stdout",
     "output_type": "stream",
     "text": [
      "Accuracy : 0.8129496402877698\n"
     ]
    }
   ],
   "source": [
    "print(\"Accuracy :\",metrics.accuracy_score(y_test,y_pred))"
   ]
  }
 ],
 "metadata": {
  "kernelspec": {
   "display_name": "Python 3",
   "language": "python",
   "name": "python3"
  }
 },
 "nbformat": 4,
 "nbformat_minor": 5
}
